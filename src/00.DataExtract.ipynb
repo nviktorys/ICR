{
 "cells": [
  {
   "cell_type": "code",
   "execution_count": 1,
   "metadata": {},
   "outputs": [],
   "source": [
    "# kaggle competitions download -c icr-identify-age-related-conditions\n",
    "from zipfile import ZipFile\n",
    "from io import StringIO\n",
    "import pandas as pd"
   ]
  },
  {
   "attachments": {},
   "cell_type": "markdown",
   "metadata": {},
   "source": [
    "Extract files"
   ]
  },
  {
   "cell_type": "code",
   "execution_count": 7,
   "metadata": {},
   "outputs": [],
   "source": [
    "# Extract compressed data\n",
    "with ZipFile('..\\\\icr-identify-age-related-conditions.zip') as myzip:\n",
    "    with myzip.open('greeks.csv') as myfile:\n",
    "        bytes_data = myfile.read()\n",
    "        s = str(bytes_data,'utf-8')\n",
    "        data = StringIO(s)\n",
    "        df = pd.read_csv(data)\n",
    "        df.to_csv(\"..\\\\data\\\\greeks.csv\")\n",
    "        \n",
    "    with myzip.open('sample_submission.csv') as myfile:\n",
    "        bytes_data = myfile.read()\n",
    "        s = str(bytes_data,'utf-8')\n",
    "        data = StringIO(s)\n",
    "        df = pd.read_csv(data)\n",
    "        df.to_csv(\"..\\\\data\\\\sample_submission.csv\")\n",
    "        \n",
    "    with myzip.open('test.csv') as testfile:\n",
    "        bytes_data = testfile.read()\n",
    "        s = str(bytes_data,'utf-8')\n",
    "        data = StringIO(s)\n",
    "        df = pd.read_csv(data)\n",
    "        df.to_csv(\"..\\\\data\\\\test.csv\")\n",
    "        \n",
    "    with myzip.open('train.csv') as trainfile:\n",
    "        bytes_data = trainfile.read()\n",
    "        s = str(bytes_data,'utf-8')\n",
    "        data = StringIO(s)\n",
    "        df = pd.read_csv(data)\n",
    "        df.to_csv(\"..\\\\data\\\\train.csv\")"
   ]
  }
 ],
 "metadata": {
  "kernelspec": {
   "display_name": "Python 3",
   "language": "python",
   "name": "python3"
  },
  "language_info": {
   "codemirror_mode": {
    "name": "ipython",
    "version": 3
   },
   "file_extension": ".py",
   "mimetype": "text/x-python",
   "name": "python",
   "nbconvert_exporter": "python",
   "pygments_lexer": "ipython3",
   "version": "3.8.8"
  },
  "orig_nbformat": 4
 },
 "nbformat": 4,
 "nbformat_minor": 2
}
